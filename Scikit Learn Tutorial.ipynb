{
 "cells": [
  {
   "cell_type": "code",
   "execution_count": null,
   "id": "33f65bde-ce50-4d99-9922-2e84a81b6369",
   "metadata": {},
   "outputs": [],
   "source": [
    "#Scikit Learn Tutorial\n",
    "#https://scikit-learn.org/stable/tutorial/index.html#tutorial-menu"
   ]
  },
  {
   "cell_type": "code",
   "execution_count": null,
   "id": "16715bf0-2f32-4321-b976-69cc7370f78d",
   "metadata": {},
   "outputs": [],
   "source": [
    "# generally, a learning problem considers a set of n samples of data then tries to predict properties of unknown data \n",
    "# if each sample is more than a single number it is said to have several attributes or features "
   ]
  },
  {
   "cell_type": "code",
   "execution_count": null,
   "id": "4c90cf08-2a68-49f8-9edf-2663ff643d3e",
   "metadata": {},
   "outputs": [],
   "source": [
    "# supervised learning -> the data comes with additional attributes that we want to predict \n",
    "\n",
    "# the problem can be either classification or regression \n",
    "\n",
    "# classification -> samples belong to two or more classes and we want to learn from already labled data how to predict the class of the unlabled data \n",
    "#    ex: handwritte digit recognition; the aim is to assign each input vector to one of a finite number of discrete categories \n",
    "#    can be thought of as a discrete form of supervised learning where one has a limited number of categories for each of the n samples provided and one is to try to label them with the correct category or class \n",
    "\n",
    "# regression -> if the desired output consists of one or more continuous variables, then the task is called regression \n",
    "#    ex: prediciton of  the length of a salmon as a function of its age and weight "
   ]
  },
  {
   "cell_type": "code",
   "execution_count": null,
   "id": "1c8e8b31-bec3-4450-80ad-72c40abe4b04",
   "metadata": {},
   "outputs": [],
   "source": [
    "# unsupervised learning -> the training dataset consists of a set of input vectors x without any corresponding target values \n",
    "#     the goal is to discover groups of similar examples within the data (clustering) or to determine the distribution of data within the input space (density estimation) or to project the data from a high-dimensional space down to two or three dimensions for the purpose of visualization "
   ]
  },
  {
   "cell_type": "code",
   "execution_count": null,
   "id": "645f78c3-ab59-4f6f-8a4f-b591a1aab32a",
   "metadata": {},
   "outputs": [],
   "source": [
    "# machine learning is about learning some properties of a dataset and then testing those properties against another data set \n",
    "#     it is common practice to split the data in the training set and the testing set \n",
    "#     the training set is used to learn some properties \n",
    "#     the testing set is the set on which we test the learned properties "
   ]
  },
  {
   "cell_type": "code",
   "execution_count": 1,
   "id": "151f43e5-8144-4abc-9b7f-23328d85d56d",
   "metadata": {},
   "outputs": [],
   "source": [
    "from sklearn import datasets\n",
    "iris = datasets.load_iris()\n",
    "digits = datasets.load_digits()"
   ]
  },
  {
   "cell_type": "code",
   "execution_count": 3,
   "id": "2d9cdc97-afb1-48e2-b9fd-91d33333a85f",
   "metadata": {
    "collapsed": true,
    "jupyter": {
     "outputs_hidden": true
    },
    "tags": []
   },
   "outputs": [
    {
     "name": "stdout",
     "output_type": "stream",
     "text": [
      "[[5.1 3.5 1.4 0.2]\n",
      " [4.9 3.  1.4 0.2]\n",
      " [4.7 3.2 1.3 0.2]\n",
      " [4.6 3.1 1.5 0.2]\n",
      " [5.  3.6 1.4 0.2]\n",
      " [5.4 3.9 1.7 0.4]\n",
      " [4.6 3.4 1.4 0.3]\n",
      " [5.  3.4 1.5 0.2]\n",
      " [4.4 2.9 1.4 0.2]\n",
      " [4.9 3.1 1.5 0.1]\n",
      " [5.4 3.7 1.5 0.2]\n",
      " [4.8 3.4 1.6 0.2]\n",
      " [4.8 3.  1.4 0.1]\n",
      " [4.3 3.  1.1 0.1]\n",
      " [5.8 4.  1.2 0.2]\n",
      " [5.7 4.4 1.5 0.4]\n",
      " [5.4 3.9 1.3 0.4]\n",
      " [5.1 3.5 1.4 0.3]\n",
      " [5.7 3.8 1.7 0.3]\n",
      " [5.1 3.8 1.5 0.3]\n",
      " [5.4 3.4 1.7 0.2]\n",
      " [5.1 3.7 1.5 0.4]\n",
      " [4.6 3.6 1.  0.2]\n",
      " [5.1 3.3 1.7 0.5]\n",
      " [4.8 3.4 1.9 0.2]\n",
      " [5.  3.  1.6 0.2]\n",
      " [5.  3.4 1.6 0.4]\n",
      " [5.2 3.5 1.5 0.2]\n",
      " [5.2 3.4 1.4 0.2]\n",
      " [4.7 3.2 1.6 0.2]\n",
      " [4.8 3.1 1.6 0.2]\n",
      " [5.4 3.4 1.5 0.4]\n",
      " [5.2 4.1 1.5 0.1]\n",
      " [5.5 4.2 1.4 0.2]\n",
      " [4.9 3.1 1.5 0.2]\n",
      " [5.  3.2 1.2 0.2]\n",
      " [5.5 3.5 1.3 0.2]\n",
      " [4.9 3.6 1.4 0.1]\n",
      " [4.4 3.  1.3 0.2]\n",
      " [5.1 3.4 1.5 0.2]\n",
      " [5.  3.5 1.3 0.3]\n",
      " [4.5 2.3 1.3 0.3]\n",
      " [4.4 3.2 1.3 0.2]\n",
      " [5.  3.5 1.6 0.6]\n",
      " [5.1 3.8 1.9 0.4]\n",
      " [4.8 3.  1.4 0.3]\n",
      " [5.1 3.8 1.6 0.2]\n",
      " [4.6 3.2 1.4 0.2]\n",
      " [5.3 3.7 1.5 0.2]\n",
      " [5.  3.3 1.4 0.2]\n",
      " [7.  3.2 4.7 1.4]\n",
      " [6.4 3.2 4.5 1.5]\n",
      " [6.9 3.1 4.9 1.5]\n",
      " [5.5 2.3 4.  1.3]\n",
      " [6.5 2.8 4.6 1.5]\n",
      " [5.7 2.8 4.5 1.3]\n",
      " [6.3 3.3 4.7 1.6]\n",
      " [4.9 2.4 3.3 1. ]\n",
      " [6.6 2.9 4.6 1.3]\n",
      " [5.2 2.7 3.9 1.4]\n",
      " [5.  2.  3.5 1. ]\n",
      " [5.9 3.  4.2 1.5]\n",
      " [6.  2.2 4.  1. ]\n",
      " [6.1 2.9 4.7 1.4]\n",
      " [5.6 2.9 3.6 1.3]\n",
      " [6.7 3.1 4.4 1.4]\n",
      " [5.6 3.  4.5 1.5]\n",
      " [5.8 2.7 4.1 1. ]\n",
      " [6.2 2.2 4.5 1.5]\n",
      " [5.6 2.5 3.9 1.1]\n",
      " [5.9 3.2 4.8 1.8]\n",
      " [6.1 2.8 4.  1.3]\n",
      " [6.3 2.5 4.9 1.5]\n",
      " [6.1 2.8 4.7 1.2]\n",
      " [6.4 2.9 4.3 1.3]\n",
      " [6.6 3.  4.4 1.4]\n",
      " [6.8 2.8 4.8 1.4]\n",
      " [6.7 3.  5.  1.7]\n",
      " [6.  2.9 4.5 1.5]\n",
      " [5.7 2.6 3.5 1. ]\n",
      " [5.5 2.4 3.8 1.1]\n",
      " [5.5 2.4 3.7 1. ]\n",
      " [5.8 2.7 3.9 1.2]\n",
      " [6.  2.7 5.1 1.6]\n",
      " [5.4 3.  4.5 1.5]\n",
      " [6.  3.4 4.5 1.6]\n",
      " [6.7 3.1 4.7 1.5]\n",
      " [6.3 2.3 4.4 1.3]\n",
      " [5.6 3.  4.1 1.3]\n",
      " [5.5 2.5 4.  1.3]\n",
      " [5.5 2.6 4.4 1.2]\n",
      " [6.1 3.  4.6 1.4]\n",
      " [5.8 2.6 4.  1.2]\n",
      " [5.  2.3 3.3 1. ]\n",
      " [5.6 2.7 4.2 1.3]\n",
      " [5.7 3.  4.2 1.2]\n",
      " [5.7 2.9 4.2 1.3]\n",
      " [6.2 2.9 4.3 1.3]\n",
      " [5.1 2.5 3.  1.1]\n",
      " [5.7 2.8 4.1 1.3]\n",
      " [6.3 3.3 6.  2.5]\n",
      " [5.8 2.7 5.1 1.9]\n",
      " [7.1 3.  5.9 2.1]\n",
      " [6.3 2.9 5.6 1.8]\n",
      " [6.5 3.  5.8 2.2]\n",
      " [7.6 3.  6.6 2.1]\n",
      " [4.9 2.5 4.5 1.7]\n",
      " [7.3 2.9 6.3 1.8]\n",
      " [6.7 2.5 5.8 1.8]\n",
      " [7.2 3.6 6.1 2.5]\n",
      " [6.5 3.2 5.1 2. ]\n",
      " [6.4 2.7 5.3 1.9]\n",
      " [6.8 3.  5.5 2.1]\n",
      " [5.7 2.5 5.  2. ]\n",
      " [5.8 2.8 5.1 2.4]\n",
      " [6.4 3.2 5.3 2.3]\n",
      " [6.5 3.  5.5 1.8]\n",
      " [7.7 3.8 6.7 2.2]\n",
      " [7.7 2.6 6.9 2.3]\n",
      " [6.  2.2 5.  1.5]\n",
      " [6.9 3.2 5.7 2.3]\n",
      " [5.6 2.8 4.9 2. ]\n",
      " [7.7 2.8 6.7 2. ]\n",
      " [6.3 2.7 4.9 1.8]\n",
      " [6.7 3.3 5.7 2.1]\n",
      " [7.2 3.2 6.  1.8]\n",
      " [6.2 2.8 4.8 1.8]\n",
      " [6.1 3.  4.9 1.8]\n",
      " [6.4 2.8 5.6 2.1]\n",
      " [7.2 3.  5.8 1.6]\n",
      " [7.4 2.8 6.1 1.9]\n",
      " [7.9 3.8 6.4 2. ]\n",
      " [6.4 2.8 5.6 2.2]\n",
      " [6.3 2.8 5.1 1.5]\n",
      " [6.1 2.6 5.6 1.4]\n",
      " [7.7 3.  6.1 2.3]\n",
      " [6.3 3.4 5.6 2.4]\n",
      " [6.4 3.1 5.5 1.8]\n",
      " [6.  3.  4.8 1.8]\n",
      " [6.9 3.1 5.4 2.1]\n",
      " [6.7 3.1 5.6 2.4]\n",
      " [6.9 3.1 5.1 2.3]\n",
      " [5.8 2.7 5.1 1.9]\n",
      " [6.8 3.2 5.9 2.3]\n",
      " [6.7 3.3 5.7 2.5]\n",
      " [6.7 3.  5.2 2.3]\n",
      " [6.3 2.5 5.  1.9]\n",
      " [6.5 3.  5.2 2. ]\n",
      " [6.2 3.4 5.4 2.3]\n",
      " [5.9 3.  5.1 1.8]]\n",
      "[[ 0.  0.  5. ...  0.  0.  0.]\n",
      " [ 0.  0.  0. ... 10.  0.  0.]\n",
      " [ 0.  0.  0. ... 16.  9.  0.]\n",
      " ...\n",
      " [ 0.  0.  1. ...  6.  0.  0.]\n",
      " [ 0.  0.  2. ... 12.  0.  0.]\n",
      " [ 0.  0. 10. ... 12.  1.  0.]]\n"
     ]
    }
   ],
   "source": [
    "print(iris.data)\n",
    "print(digits.data)"
   ]
  },
  {
   "cell_type": "code",
   "execution_count": 4,
   "id": "7acc193e-5726-4be5-868a-4b35e9028c87",
   "metadata": {},
   "outputs": [
    {
     "name": "stdout",
     "output_type": "stream",
     "text": [
      "[0 1 2 ... 8 9 8]\n"
     ]
    }
   ],
   "source": [
    "print(digits.target)"
   ]
  },
  {
   "cell_type": "code",
   "execution_count": null,
   "id": "86329437-d979-4d4f-a0b3-88655a3057a9",
   "metadata": {},
   "outputs": [],
   "source": [
    "# with the digits dataset, the task is to predict which digit an image represents \n",
    "# given are samples of each of the 10 possible classes on which we fit an estimator to be able to predict the classes to whcih unseen samples belong \n",
    "# an estimator for classification is a Python object that implements the methods fit(x, y) and predict(T) "
   ]
  },
  {
   "cell_type": "code",
   "execution_count": 5,
   "id": "e2ccaf47-0b48-47e5-88e4-01884d1e608a",
   "metadata": {},
   "outputs": [],
   "source": [
    "from sklearn import svm\n",
    "clf = svm.SVC(gamma = 0.001, C = 100)"
   ]
  },
  {
   "cell_type": "code",
   "execution_count": null,
   "id": "449751b0-4cc8-4ec0-b348-d907db20c5c6",
   "metadata": {},
   "outputs": [],
   "source": [
    "# usually we use tools such as grid search and cross validation to find good values for parameters that we set above \n",
    "# clf (classifier) is first fitted to the model; it must learn from the model \n",
    "# this learning is done by passing our training set to the fit method \n",
    "# the training set is selected with [:-1]; uses all the images in the dataset except for the last image "
   ]
  },
  {
   "cell_type": "code",
   "execution_count": 7,
   "id": "135bb8c4-a652-490b-9a93-eb73dffca648",
   "metadata": {},
   "outputs": [
    {
     "data": {
      "text/plain": [
       "SVC(C=100, gamma=0.001)"
      ]
     },
     "execution_count": 7,
     "metadata": {},
     "output_type": "execute_result"
    }
   ],
   "source": [
    "clf.fit(digits.data[:-1], digits.target[:-1])"
   ]
  },
  {
   "cell_type": "code",
   "execution_count": null,
   "id": "33969d7e-2210-4bef-9523-a24666a1dfd4",
   "metadata": {},
   "outputs": [],
   "source": [
    "# now new values can be predicted; for this instance we will be predicting the last image from digits.data "
   ]
  },
  {
   "cell_type": "code",
   "execution_count": 8,
   "id": "99ea3312-1ad7-4d91-84ed-afd8e20b132b",
   "metadata": {},
   "outputs": [
    {
     "data": {
      "text/plain": [
       "array([8])"
      ]
     },
     "execution_count": 8,
     "metadata": {},
     "output_type": "execute_result"
    }
   ],
   "source": [
    "clf.predict(digits.data[-1:])"
   ]
  },
  {
   "cell_type": "code",
   "execution_count": null,
   "id": "4f04d4fb-9aa8-4dcd-a60d-76d0723ea017",
   "metadata": {},
   "outputs": [],
   "source": [
    "# Type Casting; unless otherwise specified, the input will be cast to float64"
   ]
  },
  {
   "cell_type": "code",
   "execution_count": 10,
   "id": "d81c6825-a964-42af-8e0f-86f6d8d1daab",
   "metadata": {},
   "outputs": [
    {
     "data": {
      "text/plain": [
       "dtype('float32')"
      ]
     },
     "execution_count": 10,
     "metadata": {},
     "output_type": "execute_result"
    }
   ],
   "source": [
    "import numpy as np\n",
    "from sklearn import kernel_approximation\n",
    "\n",
    "rng = np.random.RandomState(0)\n",
    "x = rng.rand(10, 2000)\n",
    "x = np.array(x, dtype = 'float32')\n",
    "x.dtype"
   ]
  },
  {
   "cell_type": "code",
   "execution_count": 11,
   "id": "ff121ca0-e4e3-4b86-a197-131fd1b46331",
   "metadata": {},
   "outputs": [
    {
     "data": {
      "text/plain": [
       "dtype('float64')"
      ]
     },
     "execution_count": 11,
     "metadata": {},
     "output_type": "execute_result"
    }
   ],
   "source": [
    "transformer = kernel_approximation.RBFSampler()\n",
    "X_new = transformer.fit_transform(x)\n",
    "X_new.dtype"
   ]
  },
  {
   "cell_type": "code",
   "execution_count": 12,
   "id": "da96cbcb-1396-46df-af72-e4cfe0ed6984",
   "metadata": {},
   "outputs": [
    {
     "data": {
      "text/plain": [
       "SVC()"
      ]
     },
     "execution_count": 12,
     "metadata": {},
     "output_type": "execute_result"
    }
   ],
   "source": [
    "# regression targets are cast to float64 and classification targets are maintained \n",
    "# the first predict() returns an integer array since iris.target was used in fit \n",
    "# the second predict() returns a string array since iris.target_names was for fitting \n",
    "\n",
    "from sklearn import datasets\n",
    "from sklearn.svm import SVC \n",
    "\n",
    "iris = datasets.load_iris()\n",
    "clf = SVC()\n",
    "clf.fit(iris.data, iris.target)"
   ]
  },
  {
   "cell_type": "code",
   "execution_count": 13,
   "id": "f5f6c0b2-2334-4c83-84b2-244660213e2b",
   "metadata": {},
   "outputs": [
    {
     "data": {
      "text/plain": [
       "[0, 0, 0]"
      ]
     },
     "execution_count": 13,
     "metadata": {},
     "output_type": "execute_result"
    }
   ],
   "source": [
    "list(clf.predict(iris.data[:3]))"
   ]
  },
  {
   "cell_type": "code",
   "execution_count": 14,
   "id": "3167875b-5664-4384-81a3-a3f88ec28b53",
   "metadata": {},
   "outputs": [
    {
     "data": {
      "text/plain": [
       "SVC()"
      ]
     },
     "execution_count": 14,
     "metadata": {},
     "output_type": "execute_result"
    }
   ],
   "source": [
    "clf.fit(iris.data, iris.target_names[iris.target])"
   ]
  },
  {
   "cell_type": "code",
   "execution_count": 16,
   "id": "34270c21-6d75-4506-b0ba-1b9fbf385e7d",
   "metadata": {},
   "outputs": [
    {
     "data": {
      "text/plain": [
       "['setosa', 'setosa', 'setosa']"
      ]
     },
     "execution_count": 16,
     "metadata": {},
     "output_type": "execute_result"
    }
   ],
   "source": [
    "list(clf.predict(iris.data[:3]))"
   ]
  },
  {
   "cell_type": "code",
   "execution_count": null,
   "id": "dd70a855-6388-4472-b629-5f574232a5c5",
   "metadata": {},
   "outputs": [],
   "source": [
    "# Refitting and Updating Parameters \n",
    "\n",
    "# hyper-parameters of an estimator can be updated after it has been constructed via the set_params() method \n",
    "# calling fit() more than once will overwrite what was learned by any previous fit()"
   ]
  },
  {
   "cell_type": "code",
   "execution_count": 20,
   "id": "9a717261-7d60-40d2-b8be-a77cb23fd4c2",
   "metadata": {},
   "outputs": [],
   "source": [
    "from sklearn.datasets import load_iris\n",
    "\n",
    "X, Y = load_iris(return_X_y = True)"
   ]
  },
  {
   "cell_type": "code",
   "execution_count": 21,
   "id": "ed07e2e7-6857-4eba-8d67-88785e48aebc",
   "metadata": {},
   "outputs": [
    {
     "data": {
      "text/plain": [
       "SVC(kernel='linear')"
      ]
     },
     "execution_count": 21,
     "metadata": {},
     "output_type": "execute_result"
    }
   ],
   "source": [
    "clf = SVC()\n",
    "clf.set_params(kernel = 'linear').fit(X, Y)"
   ]
  },
  {
   "cell_type": "code",
   "execution_count": 22,
   "id": "9123fcba-906c-41d8-8b46-88f0d7b9e2f1",
   "metadata": {},
   "outputs": [
    {
     "data": {
      "text/plain": [
       "array([0, 0, 0, 0, 0])"
      ]
     },
     "execution_count": 22,
     "metadata": {},
     "output_type": "execute_result"
    }
   ],
   "source": [
    "clf.predict(X[:5])"
   ]
  },
  {
   "cell_type": "code",
   "execution_count": 23,
   "id": "887c4366-3f18-40f7-aa17-0c70b924d1e1",
   "metadata": {},
   "outputs": [
    {
     "data": {
      "text/plain": [
       "SVC()"
      ]
     },
     "execution_count": 23,
     "metadata": {},
     "output_type": "execute_result"
    }
   ],
   "source": [
    "clf.set_params(kernel = 'rbf').fit(X, Y)"
   ]
  },
  {
   "cell_type": "code",
   "execution_count": 25,
   "id": "c3949217-6e5c-4ed8-9c7a-0631005ba674",
   "metadata": {},
   "outputs": [
    {
     "data": {
      "text/plain": [
       "array([0, 0, 0, 0, 0])"
      ]
     },
     "execution_count": 25,
     "metadata": {},
     "output_type": "execute_result"
    }
   ],
   "source": [
    "clf.predict(X[:5])"
   ]
  },
  {
   "cell_type": "code",
   "execution_count": null,
   "id": "c0b719a5-af6b-48a7-90db-c925919af950",
   "metadata": {},
   "outputs": [],
   "source": [
    "# in above, the default kernel rbf is first changed to linear after the estimator has been constructer and was changed by to rbf to refit the estimator and to make a second prediction "
   ]
  },
  {
   "cell_type": "code",
   "execution_count": null,
   "id": "bfdd5064-f5da-494a-889d-df00fd4f7f06",
   "metadata": {},
   "outputs": [],
   "source": [
    "# Multiclass vs Multilable Fitting \n",
    "# when using multiclass classifiers the learning and prediciton task that is performed is dependent on the format of the target data fit upon "
   ]
  },
  {
   "cell_type": "code",
   "execution_count": 26,
   "id": "2a83870b-b15b-4075-8f67-4f6c32aa0443",
   "metadata": {},
   "outputs": [
    {
     "data": {
      "text/plain": [
       "array([0, 0, 1, 1, 2])"
      ]
     },
     "execution_count": 26,
     "metadata": {},
     "output_type": "execute_result"
    }
   ],
   "source": [
    "from sklearn.svm import SVC\n",
    "from sklearn.multiclass import OneVsRestClassifier \n",
    "from sklearn.preprocessing import LabelBinarizer\n",
    "\n",
    "X = [[1, 2], [2, 4], [4, 5], [3, 2], [3, 1]]\n",
    "Y = [0, 0, 1, 1, 2]\n",
    "\n",
    "classif = OneVsRestClassifier(estimator = SVC(random_state = 0))\n",
    "classif.fit(X, Y).predict(X)"
   ]
  },
  {
   "cell_type": "code",
   "execution_count": null,
   "id": "128b3f56-3b87-4330-94c2-eb75d13f58ed",
   "metadata": {},
   "outputs": [],
   "source": [
    "# in above, the classifier is fit on a 1d array of multiclass lables and the predict() method provides corresponding multiclass predictions "
   ]
  },
  {
   "cell_type": "code",
   "execution_count": 27,
   "id": "2e164ae3-5114-46e9-9fa2-56a07b928ad6",
   "metadata": {},
   "outputs": [
    {
     "data": {
      "text/plain": [
       "array([[1, 0, 0],\n",
       "       [1, 0, 0],\n",
       "       [0, 1, 0],\n",
       "       [0, 0, 0],\n",
       "       [0, 0, 0]])"
      ]
     },
     "execution_count": 27,
     "metadata": {},
     "output_type": "execute_result"
    }
   ],
   "source": [
    "# its also possible to fit upon a 2d array of binary label indicators \n",
    "\n",
    "Y = LabelBinarizer().fit_transform(Y)\n",
    "classif.fit(X, Y).predict(X)"
   ]
  },
  {
   "cell_type": "code",
   "execution_count": null,
   "id": "86d7dfef-0920-4a2d-b523-45dc18fd0b41",
   "metadata": {},
   "outputs": [],
   "source": [
    "# Statistical Learning: The Setting and the Estimator Object in scikit-learn "
   ]
  },
  {
   "cell_type": "code",
   "execution_count": null,
   "id": "256643af-2bc9-4aff-b623-8a3c7a494d45",
   "metadata": {},
   "outputs": [],
   "source": [
    "# scikit-learn deals with learning information from one or more datasets that are represented as 2d arrays \n",
    "# they can be understood as a list of multi-dimensional observations \n",
    "# the first axis of these arrays is the sample axis while the second is the feature axis "
   ]
  },
  {
   "cell_type": "code",
   "execution_count": 28,
   "id": "1aa500e9-ad03-4d05-8228-a29c97e101ae",
   "metadata": {},
   "outputs": [
    {
     "data": {
      "text/plain": [
       "(150, 4)"
      ]
     },
     "execution_count": 28,
     "metadata": {},
     "output_type": "execute_result"
    }
   ],
   "source": [
    "from sklearn import datasets \n",
    "iris = datasets.load_iris()\n",
    "data = iris.data\n",
    "data.shape # has 150 samples and 4 features "
   ]
  },
  {
   "cell_type": "code",
   "execution_count": null,
   "id": "55c29507-f51b-4484-abe5-785a719d86c9",
   "metadata": {},
   "outputs": [],
   "source": [
    "# when data is not in the (samples, features) shape, it needs to be preprocessed in order for it to be used by scikit learn "
   ]
  },
  {
   "cell_type": "code",
   "execution_count": 29,
   "id": "644d3d2d-ef2d-489a-a05a-ffe597a53a18",
   "metadata": {},
   "outputs": [
    {
     "data": {
      "text/plain": [
       "(1797, 8, 8)"
      ]
     },
     "execution_count": 29,
     "metadata": {},
     "output_type": "execute_result"
    }
   ],
   "source": [
    "digits = datasets.load_digits()\n",
    "digits.images.shape"
   ]
  },
  {
   "cell_type": "code",
   "execution_count": 31,
   "id": "c61f4012-57fc-4339-8042-1aa6f69f0f3e",
   "metadata": {},
   "outputs": [
    {
     "data": {
      "text/plain": [
       "<matplotlib.image.AxesImage at 0x7f5f8e177880>"
      ]
     },
     "execution_count": 31,
     "metadata": {},
     "output_type": "execute_result"
    },
    {
     "data": {
      "image/png": "[encoded data removed]",
      "text/plain": [
       "<Figure size 432x288 with 1 Axes>"
      ]
     },
     "metadata": {
      "needs_background": "light"
     },
     "output_type": "display_data"
    }
   ],
   "source": [
    "import matplotlib.pyplot as plt \n",
    "plt.imshow(digits.images[-1], cmap = plt.cm.gray_r)"
   ]
  },
  {
   "cell_type": "code",
   "execution_count": 32,
   "id": "dd7ed5a4-b7eb-4bc5-873d-f57c53bc237d",
   "metadata": {},
   "outputs": [],
   "source": [
    "# to use the dataset, each of the 8x8 images need to be transformed into a feature vector of length 64 \n",
    "\n",
    "data = digits.images.reshape((digits.images.shape[0], -1))"
   ]
  },
  {
   "cell_type": "code",
   "execution_count": 36,
   "id": "3bb534c2-57ca-4deb-be4a-67a38964e40c",
   "metadata": {
    "tags": []
   },
   "outputs": [
    {
     "ename": "NameError",
     "evalue": "name 'estimator' is not defined",
     "output_type": "error",
     "traceback": [
      "\u001b[0;31m---------------------------------------------------------------------------\u001b[0m",
      "\u001b[0;31mNameError\u001b[0m                                 Traceback (most recent call last)",
      "\u001b[0;32m/tmp/ipykernel_17140/3578660751.py\u001b[0m in \u001b[0;36m<module>\u001b[0;34m\u001b[0m\n\u001b[1;32m      5\u001b[0m \u001b[0;31m# all estimator objects expose a fit method that takes a dataset; usually a 2d array\u001b[0m\u001b[0;34m\u001b[0m\u001b[0;34m\u001b[0m\u001b[0m\n\u001b[1;32m      6\u001b[0m \u001b[0;34m\u001b[0m\u001b[0m\n\u001b[0;32m----> 7\u001b[0;31m \u001b[0mestimator\u001b[0m\u001b[0;34m.\u001b[0m\u001b[0mfit\u001b[0m\u001b[0;34m(\u001b[0m\u001b[0mdata\u001b[0m\u001b[0;34m)\u001b[0m\u001b[0;34m\u001b[0m\u001b[0;34m\u001b[0m\u001b[0m\n\u001b[0m",
      "\u001b[0;31mNameError\u001b[0m: name 'estimator' is not defined"
     ]
    }
   ],
   "source": [
    "# Estimators Objects \n",
    "\n",
    "# the main API implmented by scikit-learn is the estimator \n",
    "# an estimator is any object that learns from data; it may be a classification, regression, or clustering algorithm or a transformer that extracts/filters useful features from raw data \n",
    "# all estimator objects expose a fit method that takes a dataset; usually a 2d array \n",
    "\n",
    "estimator.fit(data)"
   ]
  },
  {
   "cell_type": "code",
   "execution_count": 34,
   "id": "40d241a4-e5d9-4cbd-9a61-2b949dc55707",
   "metadata": {},
   "outputs": [
    {
     "ename": "NameError",
     "evalue": "name 'Estimator' is not defined",
     "output_type": "error",
     "traceback": [
      "\u001b[0;31m---------------------------------------------------------------------------\u001b[0m",
      "\u001b[0;31mNameError\u001b[0m                                 Traceback (most recent call last)",
      "\u001b[0;32m/tmp/ipykernel_17140/920236345.py\u001b[0m in \u001b[0;36m<module>\u001b[0;34m\u001b[0m\n\u001b[1;32m      1\u001b[0m \u001b[0;31m# estimator parameters -> all the parameters of an estimator can be set when it is instantiated or by modifying the corresponding attribute\u001b[0m\u001b[0;34m\u001b[0m\u001b[0;34m\u001b[0m\u001b[0m\n\u001b[1;32m      2\u001b[0m \u001b[0;34m\u001b[0m\u001b[0m\n\u001b[0;32m----> 3\u001b[0;31m \u001b[0mestimator\u001b[0m \u001b[0;34m=\u001b[0m \u001b[0mEstimator\u001b[0m\u001b[0;34m(\u001b[0m\u001b[0mparam1\u001b[0m \u001b[0;34m=\u001b[0m \u001b[0;36m1\u001b[0m\u001b[0;34m,\u001b[0m \u001b[0mparam2\u001b[0m \u001b[0;34m=\u001b[0m \u001b[0;36m2\u001b[0m\u001b[0;34m)\u001b[0m\u001b[0;34m\u001b[0m\u001b[0;34m\u001b[0m\u001b[0m\n\u001b[0m\u001b[1;32m      4\u001b[0m \u001b[0mestimator\u001b[0m\u001b[0;34m.\u001b[0m\u001b[0mparam1\u001b[0m\u001b[0;34m\u001b[0m\u001b[0;34m\u001b[0m\u001b[0m\n",
      "\u001b[0;31mNameError\u001b[0m: name 'Estimator' is not defined"
     ]
    }
   ],
   "source": [
    "# estimator parameters -> all the parameters of an estimator can be set when it is instantiated or by modifying the corresponding attribute\n",
    "\n",
    "estimator = Estimator(param1 = 1, param2 = 2)\n",
    "estimator.param1"
   ]
  },
  {
   "cell_type": "code",
   "execution_count": null,
   "id": "5c8d5771-4455-49e5-9f6f-c3df30c79a1b",
   "metadata": {},
   "outputs": [],
   "source": [
    "# Supervised Learning -> Predicting an Output Variable from High-Dimensional Observations"
   ]
  },
  {
   "cell_type": "code",
   "execution_count": null,
   "id": "59c95a66-2614-4747-bde9-cea756dc65f9",
   "metadata": {},
   "outputs": [],
   "source": [
    "# supervised learning consists of learning the link between two datasets; the observed and the external variable we are trying to predict \n",
    "# all supervised estimators implement a fit(X, Y) method to fit the model and a predict(X) method that returns the predicted labels of Y "
   ]
  },
  {
   "cell_type": "code",
   "execution_count": null,
   "id": "4424936a-7362-44b6-a038-8151304d2c01",
   "metadata": {},
   "outputs": [],
   "source": [
    "# classification -> goal is to classify the observations in a set of finite lables \n",
    "# regression -> goal is to predict a continuous target variable "
   ]
  },
  {
   "cell_type": "code",
   "execution_count": 37,
   "id": "39d0a7ee-3393-4324-a2b6-be423a05b2d4",
   "metadata": {},
   "outputs": [
    {
     "data": {
      "text/plain": [
       "array([0, 1, 2])"
      ]
     },
     "execution_count": 37,
     "metadata": {},
     "output_type": "execute_result"
    }
   ],
   "source": [
    "# Nearest Neighbor \n",
    "\n",
    "import numpy as np\n",
    "from sklearn import datasets\n",
    "iris_X, iris_Y = datasets.load_iris(return_X_y = True)\n",
    "np.unique(iris_Y)"
   ]
  },
  {
   "cell_type": "code",
   "execution_count": 38,
   "id": "efe3903e-1def-45f1-a08f-c4e24db00fdf",
   "metadata": {},
   "outputs": [
    {
     "data": {
      "text/plain": [
       "array([1, 2, 1, 0, 0, 0, 2, 1, 2, 0])"
      ]
     },
     "execution_count": 38,
     "metadata": {},
     "output_type": "execute_result"
    }
   ],
   "source": [
    "# the simplest possible classifier is the nearest neighbor \n",
    "#     given a new observation, find in the the training set the observation with the closest feature vector \n",
    "\n",
    "# split the iris data into train and test data \n",
    "# need a random permutation to split the data randomly \n",
    "\n",
    "np.random.seed(0)\n",
    "indicies = np.random.permutation(len(iris_X))\n",
    "iris_X_train = iris_X[indicies[:-10]]\n",
    "iris_Y_train = iris_Y[indicies[:-10]]\n",
    "iris_X_test = iris_X[indicies[-10:]]\n",
    "iris_Y_test = iris_Y[indicies[-10:]]\n",
    "\n",
    "from sklearn.neighbors import KNeighborsClassifier\n",
    "knn = KNeighborsClassifier()\n",
    "knn.fit(iris_X_train, iris_Y_train)\n",
    "knn.predict(iris_X_test)"
   ]
  },
  {
   "cell_type": "code",
   "execution_count": 39,
   "id": "f509ad24-9c40-47e0-af43-e4970fbf047b",
   "metadata": {},
   "outputs": [
    {
     "data": {
      "text/plain": [
       "array([1, 1, 1, 0, 0, 0, 2, 1, 2, 0])"
      ]
     },
     "execution_count": 39,
     "metadata": {},
     "output_type": "execute_result"
    }
   ],
   "source": [
    "iris_Y_test"
   ]
  },
  {
   "cell_type": "code",
   "execution_count": null,
   "id": "c50de783-a792-4bff-b18e-792c57fa4fe1",
   "metadata": {},
   "outputs": [],
   "source": [
    "# the curse of dimensionality \n",
    "\n",
    "# for an estimator to be effective, you need the distance between neighboring points to be less than some value d, which depends on the problem\n",
    "# in one dimension, this requires n ~1/d points \n",
    "# in the above example, if the data is described by just one feature with values ranging from 0 to 1 and with n training observations, then new data will be no further away than 1/n \n",
    "# therefore, the nearest neighbor decision rule will be efficient as soon as 1/n is small compared to the scale of between-calss feature variations \n",
    "\n",
    "# if the number of features is p, you now require n ~ 1/(d^p) points \n",
    "# ex: let's say we require 10 points in one dimension, now 10^ p points are required in p dimenisions to pave the [0, 1] space \n",
    "# as p becomes large, the number of training points required for a good estimator grows exponentially "
   ]
  },
  {
   "cell_type": "code",
   "execution_count": 44,
   "id": "fa9dcfeb-828c-49aa-981f-ec5180065708",
   "metadata": {},
   "outputs": [
    {
     "data": {
      "text/plain": [
       "LinearRegression()"
      ]
     },
     "execution_count": 44,
     "metadata": {},
     "output_type": "execute_result"
    }
   ],
   "source": [
    "# Linear Model: From Regression to Sparsity \n",
    "\n",
    "# a linear regression fits a linear model to the data set by adjusting a set of parameters in order to make the sum of the squarerd residuals of the model as small as possible \n",
    "\n",
    "from sklearn import linear_model\n",
    "regr = linear_model.LinearRegression()\n",
    "diabetes_X, diabetes_Y = datasets.load_diabetes(return_X_y = True)\n",
    "diabetes_X_train = diabetes_X[:-20]\n",
    "diabetes_Y_train = diabetes_Y[:-20]\n",
    "diabetes_X_test = diabetes_X[-20:]\n",
    "diabetes_Y_test = diabetes_Y[-20:]\n",
    "regr.fit(diabetes_X_train, diabetes_Y_train)"
   ]
  },
  {
   "cell_type": "code",
   "execution_count": 45,
   "id": "b79c45de-fecb-4798-84e2-fed0d0323cb7",
   "metadata": {},
   "outputs": [
    {
     "name": "stdout",
     "output_type": "stream",
     "text": [
      "[ 3.03499549e-01 -2.37639315e+02  5.10530605e+02  3.27736980e+02\n",
      " -8.14131709e+02  4.92814588e+02  1.02848452e+02  1.84606489e+02\n",
      "  7.43519617e+02  7.60951722e+01]\n"
     ]
    }
   ],
   "source": [
    "print(regr.coef_)"
   ]
  },
  {
   "cell_type": "code",
   "execution_count": 47,
   "id": "4b8d900e-c4f3-4b4b-b9ff-3a954e690643",
   "metadata": {},
   "outputs": [
    {
     "data": {
      "text/plain": [
       "2004.5676026898211"
      ]
     },
     "execution_count": 47,
     "metadata": {},
     "output_type": "execute_result"
    }
   ],
   "source": [
    "# returning the mean squared error \n",
    "np.mean((regr.predict(diabetes_X_test) - diabetes_Y_test)**2)"
   ]
  },
  {
   "cell_type": "code",
   "execution_count": 48,
   "id": "479ce65b-2ef1-47af-af31-68ad35667bff",
   "metadata": {},
   "outputs": [
    {
     "data": {
      "text/plain": [
       "0.5850753022690574"
      ]
     },
     "execution_count": 48,
     "metadata": {},
     "output_type": "execute_result"
    }
   ],
   "source": [
    "# Explained Variance Score -> 1 is a perfect prediciton and 0 means there is no linear relationship between X and Y \n",
    "\n",
    "regr.score(diabetes_X_test, diabetes_Y_test)"
   ]
  },
  {
   "cell_type": "code",
   "execution_count": 49,
   "id": "debe11e6-b9ac-4e34-a009-7d45e8ea74a8",
   "metadata": {},
   "outputs": [],
   "source": [
    "# Shrinkage -> if there are few data points per dimension, noise in the observations induces high variance \n",
    "\n",
    "X = np.c_[.5, 1].T\n",
    "Y = [.5, 1]\n",
    "test = np.c_[0, 2].T\n",
    "regr = linear_model.LinearRegression()"
   ]
  },
  {
   "cell_type": "code",
   "execution_count": 50,
   "id": "ef991d37-3d58-4e7c-8d3f-53ef82c7741d",
   "metadata": {},
   "outputs": [
    {
     "data": {
      "text/plain": [
       "<Figure size 432x288 with 0 Axes>"
      ]
     },
     "execution_count": 50,
     "metadata": {},
     "output_type": "execute_result"
    },
    {
     "data": {
      "text/plain": [
       "<Figure size 432x288 with 0 Axes>"
      ]
     },
     "metadata": {},
     "output_type": "display_data"
    }
   ],
   "source": [
    "import matplotlib.pyplot as plt \n",
    "plt.figure()"
   ]
  },
  {
   "cell_type": "code",
   "execution_count": 52,
   "id": "be800458-3343-4295-9421-79aa33a30c50",
   "metadata": {},
   "outputs": [
    {
     "data": {
      "image/png": "[encoded data removed]",
      "text/plain": [
       "<Figure size 432x288 with 1 Axes>"
      ]
     },
     "metadata": {
      "needs_background": "light"
     },
     "output_type": "display_data"
    }
   ],
   "source": [
    "np.random.seed(0)\n",
    "for _ in range(6):\n",
    "    this_X = .1 * np.random.normal(size = (2, 1)) + X\n",
    "    regr.fit(this_X, Y)\n",
    "    plt.plot(test, regr.predict(test))\n",
    "    plt.scatter(this_X, Y, s = 3)"
   ]
  },
  {
   "cell_type": "code",
   "execution_count": null,
   "id": "d9b1a6b5-a641-4674-9d60-2cae4c349f51",
   "metadata": {},
   "outputs": [],
   "source": [
    "# a solution in high-dimensional statistical learning is to shrink the regression coefficients to zero\n",
    "# any two randomly chosen set of observations are likely to be uncorrelated \n",
    "# this is called Ridge Regression "
   ]
  },
  {
   "cell_type": "code",
   "execution_count": 53,
   "id": "78a2e4cb-e5c5-45fd-9215-ec6138984bda",
   "metadata": {},
   "outputs": [
    {
     "data": {
      "image/png": "[encoded data removed]",
      "text/plain": [
       "<Figure size 432x288 with 1 Axes>"
      ]
     },
     "metadata": {
      "needs_background": "light"
     },
     "output_type": "display_data"
    }
   ],
   "source": [
    "regr = linear_model.Ridge(alpha = .1)\n",
    "\n",
    "plt.figure()\n",
    "\n",
    "np.random.seed(0)\n",
    "\n",
    "for _ in range(6):\n",
    "    this_X = .1 * np.random.normal(size = (2, 1)) + X\n",
    "    regr.fit(this_X, Y)\n",
    "    plt.plot(test, regr.predict(test))\n",
    "    plt.scatter(this_X, Y, s = 3) "
   ]
  },
  {
   "cell_type": "code",
   "execution_count": 58,
   "id": "2a916de6-890e-4e4a-90e4-363bc08de5cd",
   "metadata": {},
   "outputs": [
    {
     "name": "stdout",
     "output_type": "stream",
     "text": [
      "[0.585111068388353, 0.5852073015444677, 0.5854677540698492, 0.5855512036503915, 0.5830717085554162, 0.5705899943728011]\n"
     ]
    }
   ],
   "source": [
    "# above is an example of bias/variance tradeoff\n",
    "# the larger the ridge alpha parameter, the higher the bias and the lower the variance \n",
    "# we can choose alpha to minimize left out error, this time using the diabetes dataset rather than the synthetic one \n",
    "\n",
    "alphas = np.logspace(-4, -1, 6)\n",
    "print([regr.set_params(alpha = alpha)\n",
    "       .fit(diabetes_X_train, diabetes_Y_train)\n",
    "       .score(diabetes_X_test, diabetes_Y_test)\n",
    "       for alpha in alphas])"
   ]
  },
  {
   "cell_type": "code",
   "execution_count": null,
   "id": "482ff56f-31d3-4a11-9cff-8cc1c77df480",
   "metadata": {},
   "outputs": [],
   "source": [
    "# capturing in the fitted parameters noise that prevents the model to generalize to new data is called overfitting \n",
    "# the bias introduced by the ridge regression is called a regularization "
   ]
  },
  {
   "cell_type": "code",
   "execution_count": null,
   "id": "4cecf8bb-8b8a-4b76-bc8d-4ff644da0b27",
   "metadata": {},
   "outputs": [],
   "source": [
    "# Sparsity \n",
    "\n",
    "# a representation of the full diabetes dataset would involve 11 dimensions -> 10 feature dimensions and 1 of the target variable \n",
    "# its hard to develop an intuition on such represetnations but it may be useful to keep in mind that it would be a fairly empty space "
   ]
  },
  {
   "cell_type": "code",
   "execution_count": null,
   "id": "ffc3f04a-41e7-4bb9-b7ad-f06bebd63da0",
   "metadata": {},
   "outputs": [],
   "source": [
    "# to improve on the conditioning of the problem (mitigating the curse of dimensionality) it would be interesting to select only the informative features and set non-informative ones to zero \n",
    "# ridge regression will decrease their contribution but not set them to zero \n",
    "# another penalization approach is called Lasso (least absolute shrinkage and seleciton operator) and it cna set some coefficients to zero \n",
    "\n",
    "# such methods are called sparse method, and sparsity can be seen as an applicaiton of Occam's razor  "
   ]
  },
  {
   "cell_type": "code",
   "execution_count": 59,
   "id": "bdd02199-b575-4f6a-9ceb-f728cfab43e9",
   "metadata": {},
   "outputs": [
    {
     "data": {
      "text/plain": [
       "Lasso(alpha=0.025118864315095794)"
      ]
     },
     "execution_count": 59,
     "metadata": {},
     "output_type": "execute_result"
    }
   ],
   "source": [
    "regr = linear_model.Lasso()\n",
    "scores = [regr.set_params(alpha = alpha)\n",
    "              .fit(diabetes_X_train, diabetes_Y_train)\n",
    "              .score(diabetes_X_test, diabetes_Y_test)\n",
    "          for alpha in alphas]\n",
    "\n",
    "best_alpha = alphas[scores.index(max(scores))]\n",
    "regr.alpha = best_alpha \n",
    "regr.fit(diabetes_X_train, diabetes_Y_train)"
   ]
  },
  {
   "cell_type": "code",
   "execution_count": 60,
   "id": "81a0a5a9-2718-49ef-8900-d7acd695e26c",
   "metadata": {},
   "outputs": [
    {
     "name": "stdout",
     "output_type": "stream",
     "text": [
      "[   0.         -212.43764548  517.19478111  313.77959962 -160.8303982\n",
      "   -0.         -187.19554705   69.38229038  508.66011217   71.84239008]\n"
     ]
    }
   ],
   "source": [
    "print(regr.coef_)"
   ]
  },
  {
   "cell_type": "code",
   "execution_count": null,
   "id": "e040b5d6-36d6-49e5-939d-609df9536d6b",
   "metadata": {},
   "outputs": [],
   "source": [
    "# different algorithms can be used to solve the same mathematical problem \n",
    "# the Lasso object solves the lasso regression problem using a coordinate descent mehtod that is efficient on large datasets \n",
    "# scikit-learn also provides the LassoLars object using the LARS algorithm which is very efficient for problems in which the weight vector extimated is very sparse (ex: problems with very few observations) "
   ]
  },
  {
   "cell_type": "code",
   "execution_count": null,
   "id": "c88295f6-c4ee-47e0-80dd-18df2c518717",
   "metadata": {},
   "outputs": [],
   "source": [
    "# Classification \n",
    "\n",
    "# in instances like the labeling iris task, linear regression is not the right approach as it will give too much weight to data far from the decision frontier \n",
    "# a linear approach is to fit a sigmoid function or logistic function "
   ]
  },
  {
   "cell_type": "code",
   "execution_count": 61,
   "id": "2d81783e-8b84-49db-8ba9-70c00f67a41f",
   "metadata": {},
   "outputs": [
    {
     "data": {
      "text/plain": [
       "LogisticRegression(C=100000.0)"
      ]
     },
     "execution_count": 61,
     "metadata": {},
     "output_type": "execute_result"
    }
   ],
   "source": [
    "log = linear_model.LogisticRegression(C = 1e5)\n",
    "log.fit(iris_X_train, iris_Y_train)"
   ]
  },
  {
   "cell_type": "code",
   "execution_count": null,
   "id": "30d672b3-19b1-43ad-837b-1ddab143e416",
   "metadata": {},
   "outputs": [],
   "source": [
    "# if you have several classes to predict, an option often used is to fit one-versus-all classifiers and then use a voting heuristic for the final decision\n",
    "# the c parameter controls the amount of regularization in the LogisticRegression object; large values for c results in less regularization\n",
    "# penalty = L2 gives shrinkage while penalty = L1 gives sparsity "
   ]
  },
  {
   "cell_type": "code",
   "execution_count": null,
   "id": "dc46b592-5190-4d04-aee3-55536c3a8576",
   "metadata": {},
   "outputs": [],
   "source": [
    "# Support Vector Machines -> belong to the discriminant model family \n",
    "# they try ot find a combination of samples to build a plane maximizing the margin between the two classes \n",
    "# regularization is set by the c parameter; small value means the margin is calculated using many or all of the observations around the separating line (more regularization)\n",
    "# a large value of c means the margin is calculated on observations close to the separating line (less regularization) "
   ]
  },
  {
   "cell_type": "code",
   "execution_count": 62,
   "id": "62ddbabd-16ee-4b51-a3e1-0631a811ea81",
   "metadata": {},
   "outputs": [
    {
     "data": {
      "text/plain": [
       "SVC(kernel='linear')"
      ]
     },
     "execution_count": 62,
     "metadata": {},
     "output_type": "execute_result"
    }
   ],
   "source": [
    "# SVMs can be used in regression (SVR) or in classification (SVC) \n",
    "\n",
    "from sklearn import svm\n",
    "svc = svm.SVC(kernel = 'linear')\n",
    "svc.fit(iris_X_train, iris_Y_train)"
   ]
  },
  {
   "cell_type": "code",
   "execution_count": null,
   "id": "d2f5ab92-d88a-44d1-ad96-fdc64dbb34d4",
   "metadata": {},
   "outputs": [],
   "source": [
    "# for many estimators including SVMs, having datasets with unit standard deviation for each feature is important to get good prediciton \n",
    "\n",
    "# classes are not always linearly separable in feature space \n",
    "# the solution is to build a decision function that is not linear but may be polynomial instead \n",
    "# this is done using the kernel trick that can be seen as creating a decision energy by positioning kernels on observations "
   ]
  },
  {
   "cell_type": "code",
   "execution_count": 63,
   "id": "26ce9223-d2b1-4f81-85f2-d9d18878cd70",
   "metadata": {},
   "outputs": [],
   "source": [
    "# linear kernel \n",
    "\n",
    "svc = svm.SVC(kernel = 'linear')"
   ]
  },
  {
   "cell_type": "code",
   "execution_count": 64,
   "id": "23c57056-c4c2-45a6-a81b-8434f9dd9ed5",
   "metadata": {},
   "outputs": [],
   "source": [
    "# polynomial kernel \n",
    "\n",
    "svc = svm.SVC(kernel = 'poly', degree = 3) "
   ]
  },
  {
   "cell_type": "code",
   "execution_count": 65,
   "id": "4b93865e-b1b4-42d7-a769-43fdad155827",
   "metadata": {},
   "outputs": [],
   "source": [
    "# RBF kernel (radial basis function) \n",
    "\n",
    "svc = svm.SVC(kernel = 'rbf')"
   ]
  },
  {
   "cell_type": "code",
   "execution_count": null,
   "id": "06803f80-876e-4569-be54-8533e49d1d90",
   "metadata": {},
   "outputs": [],
   "source": [
    "# Model Selection: Choosing Estimators and Their Parameters"
   ]
  },
  {
   "cell_type": "code",
   "execution_count": null,
   "id": "d57f41d6-e442-4813-9c58-4d4a8ae0e4de",
   "metadata": {},
   "outputs": [],
   "source": [
    "# every estimator exposes a score method that can judge the quality of the fit on new data; bigger is better "
   ]
  },
  {
   "cell_type": "code",
   "execution_count": 1,
   "id": "bf827473-d769-4709-bedf-3092f02dd946",
   "metadata": {},
   "outputs": [
    {
     "data": {
      "text/plain": [
       "0.98"
      ]
     },
     "execution_count": 1,
     "metadata": {},
     "output_type": "execute_result"
    }
   ],
   "source": [
    "from sklearn import datasets, svm \n",
    "X_digits, Y_digits = datasets.load_digits(return_X_y = True)\n",
    "svc = svm.SVC(C = 1, kernel = 'linear')\n",
    "svc.fit(X_digits[:-100], Y_digits[:-100]).score(X_digits[-100:], Y_digits[-100:])"
   ]
  },
  {
   "cell_type": "code",
   "execution_count": 2,
   "id": "0ace82ef-b601-4150-9f20-71cde14527a2",
   "metadata": {},
   "outputs": [
    {
     "name": "stdout",
     "output_type": "stream",
     "text": [
      "[0.9348914858096828, 0.9565943238731218, 0.9398998330550918]\n"
     ]
    }
   ],
   "source": [
    "# to get a better measure of prediciton accuracy we can successively split the data into folds that we use for training and testing \n",
    "# this method is called k-fold cross validation \n",
    "\n",
    "import numpy as np\n",
    "X_folds = np.array_split(X_digits, 3)\n",
    "Y_folds = np.array_split(Y_digits, 3)\n",
    "scores = list()\n",
    "for k in range(3):\n",
    "    X_train = list(X_folds)\n",
    "    X_test = X_train.pop(k)\n",
    "    X_train = np.concatenate(X_train)\n",
    "    Y_train = list(Y_folds)\n",
    "    Y_test = Y_train.pop(k)\n",
    "    Y_train = np.concatenate(Y_train)\n",
    "    scores.append(svc.fit(X_train, Y_train).score(X_test, Y_test))\n",
    "print(scores)"
   ]
  },
  {
   "cell_type": "code",
   "execution_count": 6,
   "id": "e7470f1c-95d4-4f54-bed1-e554380da609",
   "metadata": {},
   "outputs": [
    {
     "name": "stdout",
     "output_type": "stream",
     "text": [
      "Train: [2 3 4 5 6 7 8 9] | test: [0 1]\n",
      "Train: [0 1 4 5 6 7 8 9] | test: [2 3]\n",
      "Train: [0 1 2 3 6 7 8 9] | test: [4 5]\n",
      "Train: [0 1 2 3 4 5 8 9] | test: [6 7]\n",
      "Train: [0 1 2 3 4 5 6 7] | test: [8 9]\n"
     ]
    }
   ],
   "source": [
    "# Cross-Validation Generators \n",
    "\n",
    "# sklearn has a collection of classes which can be used to generate lists of train/test indices for popular cross-validation strategies\n",
    "# they all expose a split method which accepts the input dataset to be split and yields the train/test set indicies for each iteration of the chosen cross-validation strategy \n",
    "\n",
    "from sklearn.model_selection import KFold, cross_val_score\n",
    "X = [\"a\", \"a\", \"a\", \"b\", \"b\", \"c\", \"c\", \"c\", \"c\", \"c\"]\n",
    "k_fold = KFold(n_splits=5)\n",
    "for train_indices, test_indices in k_fold.split(X):\n",
    "     print('Train: %s | test: %s' % (train_indices, test_indices))"
   ]
  },
  {
   "cell_type": "code",
   "execution_count": 8,
   "id": "83960811-ea5d-47e8-a93a-4782be1ea6a9",
   "metadata": {},
   "outputs": [
    {
     "data": {
      "text/plain": [
       "[0.9638888888888889,\n",
       " 0.9222222222222223,\n",
       " 0.9637883008356546,\n",
       " 0.9637883008356546,\n",
       " 0.9303621169916435]"
      ]
     },
     "execution_count": 8,
     "metadata": {},
     "output_type": "execute_result"
    }
   ],
   "source": [
    "# cross-validation is then performed easily \n",
    "\n",
    "[svc.fit(X_digits[train], Y_digits[train]).score(X_digits[test], Y_digits[test])\n",
    " for train, test in k_fold.split(X_digits)]"
   ]
  },
  {
   "cell_type": "code",
   "execution_count": 10,
   "id": "bcb7f5d1-8e45-4638-9085-de195832aefa",
   "metadata": {},
   "outputs": [
    {
     "data": {
      "text/plain": [
       "array([0.96388889, 0.92222222, 0.9637883 , 0.9637883 , 0.93036212])"
      ]
     },
     "execution_count": 10,
     "metadata": {},
     "output_type": "execute_result"
    }
   ],
   "source": [
    "# the cross-validation score can be directly calculated using the cross_val_score helper \n",
    "# given an estimator, the cross-validation object and the input dataset, the cross_val_score splits the data repeatedly into a training and testing set, trains the estimator using the training set and computes the scores based on the testing set for each iteration of cross-validation \n",
    "# by default the estimator's score method is used to compute the individual scores \n",
    "#n_jobs = -1 means that the computation will be dispatched on all the CPUs of the computer \n",
    "\n",
    "cross_val_score(svc, X_digits, Y_digits, cv = k_fold, n_jobs = -1)"
   ]
  },
  {
   "cell_type": "code",
   "execution_count": 11,
   "id": "74dc7dfc-11b1-44b3-ac03-8f254d6136c7",
   "metadata": {},
   "outputs": [
    {
     "data": {
      "text/plain": [
       "array([0.96578289, 0.92708922, 0.96681476, 0.96362897, 0.93192644])"
      ]
     },
     "execution_count": 11,
     "metadata": {},
     "output_type": "execute_result"
    }
   ],
   "source": [
    "# the scoring argument can be provided to specify an alternative scoring method \n",
    "\n",
    "cross_val_score(svc, X_digits, Y_digits, cv = k_fold, scoring = 'precision_macro')"
   ]
  },
  {
   "cell_type": "code",
   "execution_count": null,
   "id": "7c0a4cbb-79a2-4c37-a324-a9431be8fc97",
   "metadata": {},
   "outputs": [],
   "source": [
    "# Cross-Validation Generators \n",
    "\n",
    "# KFold -> splits it into k folds, trains on K-1, and then test on the left-out \n",
    "# StratifiedKFold -> same as K-Fold but preserves the class distribution within each fold \n",
    "# GroupKFold -> ensures that the same group is not in both testing and training sets \n",
    "# ShuffleSplit -> generates train/test indices based on random permutation \n",
    "# StratifiedShuffleSplit -> same as shuffle split but preserves the class distributions within each iteration \n",
    "# GroupShuffleSplit -> ensures that the same group is not in both testing and training sets \n",
    "# LeaveOneGroupOut -> takes a group array to group observations \n",
    "# LeavePGroupsOut -> leaves P groups out \n",
    "# LeaveOneOut -> leaves one observation out \n",
    "# LeavePOut -> leaves P observations out \n",
    "# PredefinedSplit -> generates train/test indicies based on predefined splits "
   ]
  },
  {
   "cell_type": "code",
   "execution_count": 13,
   "id": "221524af-d526-495c-ad0c-2f650c83a12d",
   "metadata": {},
   "outputs": [
    {
     "data": {
      "text/plain": [
       "GridSearchCV(estimator=SVC(C=1, kernel='linear'), n_jobs=-1,\n",
       "             param_grid={'C': array([1.00000000e-06, 3.59381366e-06, 1.29154967e-05, 4.64158883e-05,\n",
       "       1.66810054e-04, 5.99484250e-04, 2.15443469e-03, 7.74263683e-03,\n",
       "       2.78255940e-02, 1.00000000e-01])})"
      ]
     },
     "execution_count": 13,
     "metadata": {},
     "output_type": "execute_result"
    }
   ],
   "source": [
    "# Grid-Search -> an object that given data computes the score during the fit of an estimator on a parameter grid and chooses the parameters to maximize the corss-validation score \n",
    "\n",
    "from sklearn.model_selection import GridSearchCV, cross_val_score \n",
    "Cs = np.logspace(-6, -1, 10)\n",
    "clf = GridSearchCV(estimator = svc, param_grid = dict(C = Cs), n_jobs = -1)\n",
    "clf.fit(X_digits[:1000], Y_digits[:1000])"
   ]
  },
  {
   "cell_type": "code",
   "execution_count": 14,
   "id": "89ba7fc8-f2a8-450f-b3a6-bb50d753e9bd",
   "metadata": {},
   "outputs": [
    {
     "data": {
      "text/plain": [
       "0.95"
      ]
     },
     "execution_count": 14,
     "metadata": {},
     "output_type": "execute_result"
    }
   ],
   "source": [
    "clf.best_score_"
   ]
  },
  {
   "cell_type": "code",
   "execution_count": 15,
   "id": "3f0ff2de-6218-4fa2-b46d-d68b716b5c70",
   "metadata": {},
   "outputs": [
    {
     "data": {
      "text/plain": [
       "0.0021544346900318843"
      ]
     },
     "execution_count": 15,
     "metadata": {},
     "output_type": "execute_result"
    }
   ],
   "source": [
    "clf.best_estimator_.C"
   ]
  },
  {
   "cell_type": "code",
   "execution_count": 16,
   "id": "26837577-18db-4f67-ac61-3c4d7a38ae72",
   "metadata": {},
   "outputs": [
    {
     "data": {
      "text/plain": [
       "0.946047678795483"
      ]
     },
     "execution_count": 16,
     "metadata": {},
     "output_type": "execute_result"
    }
   ],
   "source": [
    "# prediction performance on test set is not as good as on train set \n",
    "\n",
    "clf.score(X_digits[1000:], Y_digits[1000:])"
   ]
  },
  {
   "cell_type": "code",
   "execution_count": null,
   "id": "81b78d43-3cc4-4192-ae2a-97a742e8a325",
   "metadata": {},
   "outputs": [],
   "source": [
    "# by default, the GridSearchCV uses a 5-fold cross-validation; but if it detects that a classifier is passed rather than a regressor it uses a stratified 5-fold "
   ]
  },
  {
   "cell_type": "code",
   "execution_count": 17,
   "id": "97d5df4d-08d8-49ec-9c6d-3251d68893a4",
   "metadata": {},
   "outputs": [
    {
     "data": {
      "text/plain": [
       "LassoCV()"
      ]
     },
     "execution_count": 17,
     "metadata": {},
     "output_type": "execute_result"
    }
   ],
   "source": [
    "# Cross-Validation Estimators \n",
    "\n",
    "# cross-validation to set a parameter can be done more efficiently on an algorithm-by-algorithm basis \n",
    "# this is why sklearn exposes estimator performance that set their parameter automatically by cross-validation \n",
    "\n",
    "from sklearn import linear_model, datasets \n",
    "lasso = linear_model.LassoCV()\n",
    "X_diabetes, Y_diabetes = datasets.load_diabetes(return_X_y = True)\n",
    "lasso.fit(X_diabetes, Y_diabetes)"
   ]
  },
  {
   "cell_type": "code",
   "execution_count": 18,
   "id": "47b7565f-d2f9-4c5c-a65d-e1e8216c09a0",
   "metadata": {},
   "outputs": [
    {
     "data": {
      "text/plain": [
       "0.003753767152692203"
      ]
     },
     "execution_count": 18,
     "metadata": {},
     "output_type": "execute_result"
    }
   ],
   "source": [
    "lasso.alpha_"
   ]
  },
  {
   "cell_type": "code",
   "execution_count": null,
   "id": "eeaf9079-0e88-427d-a0df-d43426772e65",
   "metadata": {},
   "outputs": [],
   "source": [
    "# Unsupervised Learning: Seeking Representations of the Data "
   ]
  },
  {
   "cell_type": "code",
   "execution_count": null,
   "id": "655dc34d-1ded-4d2a-b3cb-f1f6da46d4e8",
   "metadata": {},
   "outputs": [],
   "source": [
    "# Clustering: Grouping Observations Together \n",
    "# given the iris dataset, if we knew that there were 3 types of iris but didn't have access to a taxonomist to label them we could try a clustering task \n",
    "# we would split the observations into well-separated groups called clusters "
   ]
  },
  {
   "cell_type": "code",
   "execution_count": 19,
   "id": "fed21542-8ea9-48cc-868b-4191705f6e51",
   "metadata": {},
   "outputs": [
    {
     "name": "stdout",
     "output_type": "stream",
     "text": [
      "[0 0 0 0 0 1 1 1 1 1 2 2 2 2 2]\n",
      "[0 0 0 0 0 1 1 1 1 1 2 2 2 2 2]\n"
     ]
    }
   ],
   "source": [
    "# K- Means Clustering \n",
    "\n",
    "from sklearn import cluster, datasets \n",
    "X_iris, Y_iris = datasets.load_iris(return_X_y = True)\n",
    "\n",
    "k_means = cluster.KMeans(n_clusters = 3) \n",
    "k_means.fit(X_iris) \n",
    "print(k_means.labels_[::10])\n",
    "print(Y_iris[::10])"
   ]
  },
  {
   "cell_type": "code",
   "execution_count": 22,
   "id": "51eea59f-d7bb-4a10-a656-a60e87f421b6",
   "metadata": {},
   "outputs": [],
   "source": [
    "# clustering in general and KMeans particularly can be seen as a way of choosing a small number of exemplars to compress the information \n",
    "# the problem is sometimes known as vector quantization \n",
    "\n",
    "import scipy as sp \n",
    "from scipy import misc \n",
    "\n",
    "try: \n",
    "    face = sp.face(gray = True)\n",
    "except AttributeError:\n",
    "    face = misc.face(gray = True) \n",
    "    \n",
    "X = face.reshape((-1, 1)) # we need an (n_sample, n_feature) array \n",
    "k_means = cluster.KMeans(n_clusters = 5, n_init = 1)\n",
    "k_means.fit(X)\n",
    "values = k_means.cluster_centers_.squeeze()\n",
    "labels = k_means.labels_\n",
    "face_compressed = np.choose(labels, values)\n",
    "face_compressed.shape = face.shape"
   ]
  },
  {
   "cell_type": "code",
   "execution_count": null,
   "id": "d6059e04-26cd-48dc-8879-f84407b0c69f",
   "metadata": {},
   "outputs": [],
   "source": [
    "# Hierarchical Agglomerative Clustering -> Ward \n",
    "# a hierarchical clustering method is a type of cluster analysis that aims to build a hierarchy of clusters; generally the various approaches of this technique are one of the following \n",
    "\n",
    "# Agglomerative -> bottom-up approach; each observation starts in its own cluster and clusters are iteratively merged in such a way to minimize a linkage criterion \n",
    "#    this approach is interesting when the clusters of interest are made of only a few observations \n",
    "#    when the number of clusters is large, it's much more computationally efficient than k-means \n",
    "\n",
    "# Divisive -> top down approaches; all observations start in one cluster which is iteratively split as one moves down the hierarchy \n",
    "#    for estimating large numbers of clusteres, this approach is both slow and statistically ill-posed "
   ]
  },
  {
   "cell_type": "code",
   "execution_count": 23,
   "id": "95015c11-b96e-4afc-81c8-ac05cb7f3135",
   "metadata": {},
   "outputs": [],
   "source": [
    "# Connectivity-Constrained Clustering \n",
    "\n",
    "# with agglomeration clustering, its possible to specify which samples can be clustered together by giving a connectivity graph \n",
    "\n",
    "from skimage.data import coins\n",
    "from scipy.ndimage import gaussian_filter\n",
    "from skimage.transform import rescale \n",
    "\n",
    "rescaled_coins = rescale(gaussian_filter(coins(), sigma = 2),\n",
    "                         0.2, \n",
    "                         mode = 'reflect', \n",
    "                         anti_aliasing = False, \n",
    "                         multichannel = False)\n",
    "X = np.reshape(rescaled_coins, (-1,1))"
   ]
  },
  {
   "cell_type": "code",
   "execution_count": 24,
   "id": "23938f7d-ad82-49c7-8880-4720642e598e",
   "metadata": {},
   "outputs": [],
   "source": [
    "# we need a vectorized version of the image; the rescaled_coins is a down scaled version of the coins image to speed up the process\n",
    "\n",
    "from sklearn.feature_extraction import grid_to_graph \n",
    "connectivity = grid_to_graph(*rescaled_coins.shape)"
   ]
  },
  {
   "cell_type": "code",
   "execution_count": 25,
   "id": "34872966-d382-4791-b0f2-5697e28ebc74",
   "metadata": {},
   "outputs": [],
   "source": [
    "# define the graph structure of the data; pixels connected to their neighbors \n",
    "\n",
    "n_clusters = 27 \n",
    "\n",
    "from sklearn.cluster import AgglomerativeClustering \n",
    "ward = AgglomerativeClustering(n_clusters = n_clusters,\n",
    "                               linkage = 'ward',\n",
    "                               connectivity = connectivity)\n",
    "ward.fit(X)\n",
    "lable = np.reshape(ward.labels_, rescaled_coins.shape)"
   ]
  },
  {
   "cell_type": "code",
   "execution_count": null,
   "id": "1d6abeac-dc45-4973-a311-da0bbdac28fb",
   "metadata": {},
   "outputs": [],
   "source": [
    "# Feature Agglomeration \n",
    "\n",
    "# sparsity could be used to mitigate the curse of dimensionality (an insufficient amount of observations compared to the number of features)\n",
    "# another approach is to merge together similar features in what is called feature agglomeration \n",
    "# this approach can be implemented by clustering in the feature direction; ie clustering the transposed data "
   ]
  },
  {
   "cell_type": "code",
   "execution_count": 27,
   "id": "7d3af648-1729-4d73-ae56-6644534b3969",
   "metadata": {},
   "outputs": [],
   "source": [
    "digits = datasets.load_digits()\n",
    "images = digits.images\n",
    "X = np.reshape(images, (len(images), -1))\n",
    "connectivity = grid_to_graph(*images[0].shape)\n",
    "\n",
    "agglo = cluster.FeatureAgglomeration(connectivity=connectivity,\n",
    "                                     n_clusters=32)\n",
    "agglo.fit(X)\n",
    "\n",
    "X_reduced = agglo.transform(X)\n",
    "\n",
    "X_approx = agglo.inverse_transform(X_reduced)\n",
    "images_approx = np.reshape(X_approx, images.shape)"
   ]
  },
  {
   "cell_type": "code",
   "execution_count": null,
   "id": "877e28bc-f75d-46b8-a9c9-c5666343fa95",
   "metadata": {},
   "outputs": [],
   "source": [
    "# Decompositions: From a Signal to Components and Loadings \n",
    "# if X is our multivariate data, then the problem that we are trying to solve is to rewrite it on a different observational basis\n",
    "# we want to learn loadings L and a set of components C such that X = L C "
   ]
  },
  {
   "cell_type": "code",
   "execution_count": null,
   "id": "c159544d-c0d5-46f7-b841-1b44bbaae75a",
   "metadata": {},
   "outputs": [],
   "source": [
    "# Principal Components Analysis -> selects the successive components that explain the maximum variance in the signal \n",
    "# finds in what ways that the data is not explained by a given set of univariate features \n",
    "# can reduce the dimensionality of the data by projecting on a principal subspace "
   ]
  },
  {
   "cell_type": "code",
   "execution_count": 30,
   "id": "73820a49-e766-4a53-94e7-f8d23655cf69",
   "metadata": {},
   "outputs": [
    {
     "name": "stdout",
     "output_type": "stream",
     "text": [
      "[2.98417484e+00 7.71971266e-01 7.83792280e-32]\n"
     ]
    }
   ],
   "source": [
    "X1 = np.random.normal(size = 100)\n",
    "X2 = np.random.normal(size = 100)\n",
    "X3 = X1 + X2 \n",
    "X = np.c_[X1, X2, X3]\n",
    "\n",
    "from sklearn import decomposition\n",
    "pca = decomposition.PCA()\n",
    "pca.fit(X)\n",
    "print(pca.explained_variance_)"
   ]
  },
  {
   "cell_type": "code",
   "execution_count": 31,
   "id": "ab7ed93f-35be-43f0-b69b-a39614a4a713",
   "metadata": {},
   "outputs": [
    {
     "data": {
      "text/plain": [
       "(100, 2)"
      ]
     },
     "execution_count": 31,
     "metadata": {},
     "output_type": "execute_result"
    }
   ],
   "source": [
    "# only the first two components are useful \n",
    "\n",
    "pca.n_components = 2\n",
    "X_reduced = pca.fit_transform(X)\n",
    "X_reduced.shape"
   ]
  },
  {
   "cell_type": "code",
   "execution_count": null,
   "id": "6b7e934b-a2c2-4a35-a5d4-99d9dfb1541c",
   "metadata": {},
   "outputs": [],
   "source": [
    "# Independent Components Analysis -> selects components so that the distribution of their loadins carries a maximum amount of independent information \n",
    "# is able to recover non-Gaussian independent signals "
   ]
  },
  {
   "cell_type": "code",
   "execution_count": 33,
   "id": "cd92b496-40ec-45fb-8421-83380f9f37fa",
   "metadata": {
    "tags": []
   },
   "outputs": [
    {
     "data": {
      "text/plain": [
       "True"
      ]
     },
     "execution_count": 33,
     "metadata": {},
     "output_type": "execute_result"
    }
   ],
   "source": [
    "import numpy as np\n",
    "from scipy import signal\n",
    "time = np.linspace(0, 10, 2000)\n",
    "s1 = np.sin(2 * time)  # Signal 1 : sinusoidal signal\n",
    "s2 = np.sign(np.sin(3 * time))  # Signal 2 : square signal\n",
    "s3 = signal.sawtooth(2 * np.pi * time)  # Signal 3: saw tooth signal\n",
    "S = np.c_[s1, s2, s3]\n",
    "S += 0.2 * np.random.normal(size=S.shape)  # Add noise\n",
    "S /= S.std(axis=0)  # Standardize data\n",
    "# Mix data\n",
    "A = np.array([[1, 1, 1], [0.5, 2, 1], [1.5, 1, 2]])  # Mixing matrix\n",
    "X = np.dot(S, A.T)  # Generate observations\n",
    "\n",
    "# Compute ICA\n",
    "ica = decomposition.FastICA()\n",
    "S_ = ica.fit_transform(X)  # Get the estimated sources\n",
    "A_ = ica.mixing_.T\n",
    "np.allclose(X,  np.dot(S_, A_) + ica.mean_)"
   ]
  },
  {
   "cell_type": "code",
   "execution_count": null,
   "id": "b1d618ff-cd01-4bc0-8b28-79ad9f3a62e9",
   "metadata": {},
   "outputs": [],
   "source": [
    "# Putting It All Together "
   ]
  },
  {
   "cell_type": "raw",
   "id": "39402311-487c-452b-a24d-eec0798288dd",
   "metadata": {},
   "source": [
    "from sklearn.decomposition import PCA\n",
    "from sklearn.linear_model import LogisticRegression\n",
    "from sklearn.pipeline import Pipeline\n",
    "from sklearn.model_selection import GridSearchCV\n",
    "from sklearn.preprocessing import StandardScaler\n",
    "import matplotlib as plt\n",
    "\n",
    "# Define a pipeline to search for the best combination of PCA truncation\n",
    "# and classifier regularization.\n",
    "pca = PCA()\n",
    "# Define a Standard Scaler to normalize inputs\n",
    "scaler = StandardScaler()\n",
    "\n",
    "# set the tolerance to a large value to make the example faster\n",
    "logistic = LogisticRegression(max_iter=10000, tol=0.1)\n",
    "pipe = Pipeline(steps=[(\"scaler\", scaler), (\"pca\", pca), (\"logistic\", logistic)])\n",
    "\n",
    "X_digits, y_digits = datasets.load_digits(return_X_y=True)\n",
    "# Parameters of pipelines can be set using ‘__’ separated parameter names:\n",
    "param_grid = {\n",
    "    \"pca__n_components\": [5, 15, 30, 45, 60],\n",
    "    \"logistic__C\": np.logspace(-4, 4, 4),\n",
    "}\n",
    "search = GridSearchCV(pipe, param_grid, n_jobs=2)\n",
    "search.fit(X_digits, y_digits)\n",
    "print(\"Best parameter (CV score=%0.3f):\" % search.best_score_)\n",
    "print(search.best_params_)\n",
    "\n",
    "# Plot the PCA spectrum\n",
    "pca.fit(X_digits)\n",
    "\n",
    "fig, (ax0, ax1) = plt.subplots(nrows=2, sharex=True, figsize=(6, 6))\n",
    "ax0.plot(\n",
    "    np.arange(1, pca.n_components_ + 1), pca.explained_variance_ratio_, \"+\", linewidth=2\n",
    ")\n",
    "ax0.set_ylabel(\"PCA explained variance ratio\")\n",
    "\n",
    "ax0.axvline(\n",
    "    search.best_estimator_.named_steps[\"pca\"].n_components,\n",
    "    linestyle=\":\",\n",
    "    label=\"n_components chosen\",\n",
    ")"
   ]
  },
  {
   "cell_type": "code",
   "execution_count": null,
   "id": "26458762-5553-4ec1-b8ad-ca49b135c297",
   "metadata": {},
   "outputs": [],
   "source": []
  },
  {
   "cell_type": "code",
   "execution_count": null,
   "id": "8b298d61-b5a5-470a-95e3-0aa2160ffacb",
   "metadata": {},
   "outputs": [],
   "source": []
  },
  {
   "cell_type": "code",
   "execution_count": null,
   "id": "fbb90905-d10b-46ec-b3ea-8e95d6cbcd9f",
   "metadata": {},
   "outputs": [],
   "source": []
  },
  {
   "cell_type": "code",
   "execution_count": null,
   "id": "789f954b-899b-491b-b344-9cd03618999f",
   "metadata": {},
   "outputs": [],
   "source": []
  },
  {
   "cell_type": "code",
   "execution_count": null,
   "id": "3495df25-e941-42c2-972f-ae3eead3d93f",
   "metadata": {},
   "outputs": [],
   "source": []
  },
  {
   "cell_type": "code",
   "execution_count": null,
   "id": "8345a268-65c5-4c51-aad9-a9f7627052b9",
   "metadata": {},
   "outputs": [],
   "source": []
  },
  {
   "cell_type": "code",
   "execution_count": null,
   "id": "6ceb19ef-8ad7-4202-a123-e67d8a73ee26",
   "metadata": {},
   "outputs": [],
   "source": []
  },
  {
   "cell_type": "code",
   "execution_count": null,
   "id": "ccef5eca-7a11-4902-806d-ac960323077a",
   "metadata": {},
   "outputs": [],
   "source": []
  },
  {
   "cell_type": "code",
   "execution_count": null,
   "id": "d0c1dc31-7b98-4fe8-8369-3d1ab3d4965a",
   "metadata": {},
   "outputs": [],
   "source": []
  }
 ],
 "metadata": {
  "kernelspec": {
   "display_name": "Python 3 (ipykernel)",
   "language": "python",
   "name": "python3"
  },
  "language_info": {
   "codemirror_mode": {
    "name": "ipython",
    "version": 3
   },
   "file_extension": ".py",
   "mimetype": "text/x-python",
   "name": "python",
   "nbconvert_exporter": "python",
   "pygments_lexer": "ipython3",
   "version": "3.9.7"
  }
 },
 "nbformat": 4,
 "nbformat_minor": 5
}
